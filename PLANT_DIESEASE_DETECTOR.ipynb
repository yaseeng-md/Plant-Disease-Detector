{
  "nbformat": 4,
  "nbformat_minor": 0,
  "metadata": {
    "colab": {
      "provenance": [],
      "gpuType": "T4",
      "mount_file_id": "1AqkTp8S1WWYzT7VSeFejsA2IirJ9x_MM",
      "authorship_tag": "ABX9TyMnWLydTC3Pk4JIsall/Am5",
      "include_colab_link": true
    },
    "kernelspec": {
      "name": "python3",
      "display_name": "Python 3"
    },
    "language_info": {
      "name": "python"
    },
    "accelerator": "GPU"
  },
  "cells": [
    {
      "cell_type": "markdown",
      "metadata": {
        "id": "view-in-github",
        "colab_type": "text"
      },
      "source": [
        "<a href=\"https://colab.research.google.com/github/yaseeng-md/Plant-Disease-Detector/blob/main/PLANT_DIESEASE_DETECTOR.ipynb\" target=\"_parent\"><img src=\"https://colab.research.google.com/assets/colab-badge.svg\" alt=\"Open In Colab\"/></a>"
      ]
    },
    {
      "cell_type": "code",
      "execution_count": 2,
      "metadata": {
        "id": "3NJwHExE10sG",
        "colab": {
          "base_uri": "https://localhost:8080/"
        },
        "outputId": "54991568-4115-411c-8214-35eea88189cf"
      },
      "outputs": [
        {
          "output_type": "stream",
          "name": "stdout",
          "text": [
            "Looking in indexes: https://pypi.org/simple, https://us-python.pkg.dev/colab-wheels/public/simple/\n",
            "Collecting split_folders\n",
            "  Downloading split_folders-0.5.1-py3-none-any.whl (8.4 kB)\n",
            "Installing collected packages: split_folders\n",
            "Successfully installed split_folders-0.5.1\n",
            "Drive already mounted at /content/drive; to attempt to forcibly remount, call drive.mount(\"/content/drive\", force_remount=True).\n"
          ]
        }
      ],
      "source": [
        "import tensorflow as tf\n",
        "import os\n",
        "import pandas as pd\n",
        "import numpy as np\n",
        "import matplotlib.pyplot as plt\n",
        "import keras\n",
        "from keras.preprocessing.image import ImageDataGenerator\n",
        "from keras.applications.vgg19 import VGG19,decode_predictions,preprocess_input\n",
        "from keras.callbacks import ModelCheckpoint,EarlyStopping\n",
        "from keras.models import load_model\n",
        "!pip install split_folders\n",
        "import splitfolders\n",
        "from google.colab import drive\n",
        "drive.mount('/content/drive')"
      ]
    },
    {
      "cell_type": "code",
      "source": [
        "\n",
        "loc = \"/content/drive/MyDrive/plantvillage dataset/color\"\n",
        "\n",
        "splitfolders.ratio(loc,output = \"modeldataset\",seed = 42,ratio = (0.80,.1,.1))\n",
        "\n",
        "loc = \"/content/drive/MyDrive/plantvillage dataset/grayscale\"\n",
        "splitfolders.ratio(loc,output = \"modeldataset\",seed = 42,ratio = (0.80,.1,.1))\n",
        "\n",
        "loc = \"/content/drive/MyDrive/plantvillage dataset/segmented\"\n",
        "splitfolders.ratio(loc,output = \"modeldataset\",seed = 42,ratio = (0.80,.1,.1))\n",
        "\n"
      ],
      "metadata": {
        "colab": {
          "base_uri": "https://localhost:8080/"
        },
        "id": "oAzjPUPx8YFx",
        "outputId": "30c6cbfd-c03e-4f6f-fc0a-393ea0443876"
      },
      "execution_count": 4,
      "outputs": [
        {
          "output_type": "stream",
          "name": "stderr",
          "text": [
            "Copying files: 10337 files [02:40, 64.54 files/s] \n",
            "Copying files: 0 files [00:02, ? files/s]\n",
            "Copying files: 0 files [00:02, ? files/s]\n"
          ]
        }
      ]
    },
    {
      "cell_type": "code",
      "source": [
        "train_datagen = ImageDataGenerator(zoom_range = 0.5, shear_range = 0.3,horizontal_flip = True,preprocessing_function= preprocess_input)\n",
        "valid_datagen = ImageDataGenerator(preprocessing_function=preprocess_input)\n"
      ],
      "metadata": {
        "id": "6fMP0Arg98qg"
      },
      "execution_count": 5,
      "outputs": []
    },
    {
      "cell_type": "code",
      "source": [
        "train = train_datagen.flow_from_directory(directory= \"/content/modeldataset/train\",target_size=(256,256), batch_size=32)\n",
        "\n",
        "valid = valid_datagen.flow_from_directory(directory= \"/content/modeldataset/val\",target_size=(256,256), batch_size=32)\n",
        "\n"
      ],
      "metadata": {
        "id": "xtor_F6D-tiJ",
        "colab": {
          "base_uri": "https://localhost:8080/"
        },
        "outputId": "3cdba56a-c5a3-43b1-a185-685592428bfe"
      },
      "execution_count": 6,
      "outputs": [
        {
          "output_type": "stream",
          "name": "stdout",
          "text": [
            "Found 8266 images belonging to 38 classes.\n",
            "Found 1029 images belonging to 38 classes.\n"
          ]
        }
      ]
    },
    {
      "cell_type": "markdown",
      "source": [
        "Building our Model"
      ],
      "metadata": {
        "id": "vLHxiPCJEzs3"
      }
    },
    {
      "cell_type": "code",
      "source": [
        "from keras.layers import Dense,Flatten\n",
        "from keras.models import Model\n"
      ],
      "metadata": {
        "id": "G8p3bTCwE3Wv"
      },
      "execution_count": 7,
      "outputs": []
    },
    {
      "cell_type": "code",
      "source": [
        "base_model = VGG19(input_shape=(256,256,3) , include_top = False )"
      ],
      "metadata": {
        "colab": {
          "base_uri": "https://localhost:8080/"
        },
        "id": "DL6GpCxCFPoc",
        "outputId": "e0e48dd0-7012-452a-8c1c-bc012dea327d"
      },
      "execution_count": 8,
      "outputs": [
        {
          "output_type": "stream",
          "name": "stdout",
          "text": [
            "Downloading data from https://storage.googleapis.com/tensorflow/keras-applications/vgg19/vgg19_weights_tf_dim_ordering_tf_kernels_notop.h5\n",
            "80134624/80134624 [==============================] - 3s 0us/step\n"
          ]
        }
      ]
    },
    {
      "cell_type": "code",
      "source": [
        "for layer in base_model.layers:\n",
        "  layer.trainable = False"
      ],
      "metadata": {
        "id": "ILGnz7-PHYOR"
      },
      "execution_count": 9,
      "outputs": []
    },
    {
      "cell_type": "code",
      "source": [
        "base_model.summary()"
      ],
      "metadata": {
        "colab": {
          "base_uri": "https://localhost:8080/"
        },
        "id": "Rify7t5KLHYu",
        "outputId": "d692177b-8926-4c53-ffaa-cb7fdec2c299"
      },
      "execution_count": 10,
      "outputs": [
        {
          "output_type": "stream",
          "name": "stdout",
          "text": [
            "Model: \"vgg19\"\n",
            "_________________________________________________________________\n",
            " Layer (type)                Output Shape              Param #   \n",
            "=================================================================\n",
            " input_1 (InputLayer)        [(None, 256, 256, 3)]     0         \n",
            "                                                                 \n",
            " block1_conv1 (Conv2D)       (None, 256, 256, 64)      1792      \n",
            "                                                                 \n",
            " block1_conv2 (Conv2D)       (None, 256, 256, 64)      36928     \n",
            "                                                                 \n",
            " block1_pool (MaxPooling2D)  (None, 128, 128, 64)      0         \n",
            "                                                                 \n",
            " block2_conv1 (Conv2D)       (None, 128, 128, 128)     73856     \n",
            "                                                                 \n",
            " block2_conv2 (Conv2D)       (None, 128, 128, 128)     147584    \n",
            "                                                                 \n",
            " block2_pool (MaxPooling2D)  (None, 64, 64, 128)       0         \n",
            "                                                                 \n",
            " block3_conv1 (Conv2D)       (None, 64, 64, 256)       295168    \n",
            "                                                                 \n",
            " block3_conv2 (Conv2D)       (None, 64, 64, 256)       590080    \n",
            "                                                                 \n",
            " block3_conv3 (Conv2D)       (None, 64, 64, 256)       590080    \n",
            "                                                                 \n",
            " block3_conv4 (Conv2D)       (None, 64, 64, 256)       590080    \n",
            "                                                                 \n",
            " block3_pool (MaxPooling2D)  (None, 32, 32, 256)       0         \n",
            "                                                                 \n",
            " block4_conv1 (Conv2D)       (None, 32, 32, 512)       1180160   \n",
            "                                                                 \n",
            " block4_conv2 (Conv2D)       (None, 32, 32, 512)       2359808   \n",
            "                                                                 \n",
            " block4_conv3 (Conv2D)       (None, 32, 32, 512)       2359808   \n",
            "                                                                 \n",
            " block4_conv4 (Conv2D)       (None, 32, 32, 512)       2359808   \n",
            "                                                                 \n",
            " block4_pool (MaxPooling2D)  (None, 16, 16, 512)       0         \n",
            "                                                                 \n",
            " block5_conv1 (Conv2D)       (None, 16, 16, 512)       2359808   \n",
            "                                                                 \n",
            " block5_conv2 (Conv2D)       (None, 16, 16, 512)       2359808   \n",
            "                                                                 \n",
            " block5_conv3 (Conv2D)       (None, 16, 16, 512)       2359808   \n",
            "                                                                 \n",
            " block5_conv4 (Conv2D)       (None, 16, 16, 512)       2359808   \n",
            "                                                                 \n",
            " block5_pool (MaxPooling2D)  (None, 8, 8, 512)         0         \n",
            "                                                                 \n",
            "=================================================================\n",
            "Total params: 20,024,384\n",
            "Trainable params: 0\n",
            "Non-trainable params: 20,024,384\n",
            "_________________________________________________________________\n"
          ]
        }
      ]
    },
    {
      "cell_type": "code",
      "source": [
        "from keras.layers.convolutional.base_conv import activations\n",
        "X = Flatten()(base_model.output)\n",
        "X = Dense(units = 38, activation = \"softmax\")(X)\n",
        "\n",
        "# Model creation\n",
        "model = Model(base_model.input,X)"
      ],
      "metadata": {
        "id": "j0JnTK_8LRZg"
      },
      "execution_count": 11,
      "outputs": []
    },
    {
      "cell_type": "code",
      "source": [
        "model.compile(optimizer=\"adam\",loss = keras.losses.categorical_crossentropy,metrics=[\"accuracy\"])"
      ],
      "metadata": {
        "id": "GD02lo7tUL_B"
      },
      "execution_count": 12,
      "outputs": []
    },
    {
      "cell_type": "markdown",
      "source": [
        "Early Stooping and Model check Points\n"
      ],
      "metadata": {
        "id": "fhyNX4NvMRx0"
      }
    },
    {
      "cell_type": "code",
      "source": [
        "#early Stopping\n",
        "es = EarlyStopping(monitor=\"val_accuracy\",min_delta = 0.01,patience = 3, \n",
        "                   verbose = 1)\n",
        "#model checkpoint\n",
        "mc = ModelCheckpoint(filepath = \"best_model.h5\",monitor=\"val_accuracy\",\n",
        "                     min_delta = 0.01,patience = 3, verbose = 1,\n",
        "                     save_best_only= True)\n",
        "cb = [es,mc]\n",
        "\n"
      ],
      "metadata": {
        "id": "OYTyqojLMWTi"
      },
      "execution_count": 13,
      "outputs": []
    },
    {
      "cell_type": "code",
      "source": [
        "his = model.fit_generator(train ,\n",
        "                          steps_per_epoch=16,\n",
        "                          epochs=50,\n",
        "                          verbose = 1,\n",
        "                          callbacks=cb,\n",
        "                          validation_data=valid,\n",
        "                          validation_steps=16)\n"
      ],
      "metadata": {
        "colab": {
          "base_uri": "https://localhost:8080/"
        },
        "id": "5MbwnNa6NqKr",
        "outputId": "6b2ef838-cc66-497f-94ec-d44d6ca70ab3"
      },
      "execution_count": 14,
      "outputs": [
        {
          "output_type": "stream",
          "name": "stderr",
          "text": [
            "<ipython-input-14-2c480d761509>:1: UserWarning: `Model.fit_generator` is deprecated and will be removed in a future version. Please use `Model.fit`, which supports generators.\n",
            "  his = model.fit_generator(train ,\n"
          ]
        },
        {
          "output_type": "stream",
          "name": "stdout",
          "text": [
            "Epoch 1/50\n",
            "16/16 [==============================] - ETA: 0s - loss: 13.6871 - accuracy: 0.4492\n",
            "Epoch 1: val_accuracy improved from -inf to 0.77539, saving model to best_model.h5\n",
            "16/16 [==============================] - 25s 767ms/step - loss: 13.6871 - accuracy: 0.4492 - val_loss: 5.0286 - val_accuracy: 0.7754\n",
            "Epoch 2/50\n",
            "16/16 [==============================] - ETA: 0s - loss: 3.8741 - accuracy: 0.8047\n",
            "Epoch 2: val_accuracy improved from 0.77539 to 0.90039, saving model to best_model.h5\n",
            "16/16 [==============================] - 13s 853ms/step - loss: 3.8741 - accuracy: 0.8047 - val_loss: 1.6848 - val_accuracy: 0.9004\n",
            "Epoch 3/50\n",
            "16/16 [==============================] - ETA: 0s - loss: 1.9536 - accuracy: 0.8438\n",
            "Epoch 3: val_accuracy improved from 0.90039 to 0.92383, saving model to best_model.h5\n",
            "16/16 [==============================] - 14s 889ms/step - loss: 1.9536 - accuracy: 0.8438 - val_loss: 1.3581 - val_accuracy: 0.9238\n",
            "Epoch 4/50\n",
            "16/16 [==============================] - ETA: 0s - loss: 2.3517 - accuracy: 0.8613\n",
            "Epoch 4: val_accuracy did not improve from 0.92383\n",
            "16/16 [==============================] - 15s 923ms/step - loss: 2.3517 - accuracy: 0.8613 - val_loss: 1.9556 - val_accuracy: 0.8984\n",
            "Epoch 5/50\n",
            "16/16 [==============================] - ETA: 0s - loss: 1.8323 - accuracy: 0.9023\n",
            "Epoch 5: val_accuracy did not improve from 0.92383\n",
            "16/16 [==============================] - 13s 815ms/step - loss: 1.8323 - accuracy: 0.9023 - val_loss: 1.6499 - val_accuracy: 0.9180\n",
            "Epoch 6/50\n",
            "16/16 [==============================] - ETA: 0s - loss: 1.8740 - accuracy: 0.8770\n",
            "Epoch 6: val_accuracy improved from 0.92383 to 0.92773, saving model to best_model.h5\n",
            "16/16 [==============================] - 16s 1s/step - loss: 1.8740 - accuracy: 0.8770 - val_loss: 1.0017 - val_accuracy: 0.9277\n",
            "Epoch 6: early stopping\n"
          ]
        }
      ]
    },
    {
      "cell_type": "code",
      "source": [
        "h = his.history\n",
        "h.keys()\n"
      ],
      "metadata": {
        "colab": {
          "base_uri": "https://localhost:8080/"
        },
        "id": "gkOljLy2cbzL",
        "outputId": "08e6cb3a-2ad0-4edc-d9cd-efaea747c42b"
      },
      "execution_count": 15,
      "outputs": [
        {
          "output_type": "execute_result",
          "data": {
            "text/plain": [
              "dict_keys(['loss', 'accuracy', 'val_loss', 'val_accuracy'])"
            ]
          },
          "metadata": {},
          "execution_count": 15
        }
      ]
    },
    {
      "cell_type": "code",
      "source": [
        "plt.plot(h[\"loss\"] , c = \"red\")\n",
        "plt.plot(h[\"val_loss\"] , c = \"yellow\")\n",
        "\n",
        "\n"
      ],
      "metadata": {
        "colab": {
          "base_uri": "https://localhost:8080/",
          "height": 447
        },
        "id": "nhOErh4Ect-l",
        "outputId": "bbe52ec8-3f45-4834-ebc1-cb8d56778f52"
      },
      "execution_count": 16,
      "outputs": [
        {
          "output_type": "execute_result",
          "data": {
            "text/plain": [
              "[<matplotlib.lines.Line2D at 0x7fe778443010>]"
            ]
          },
          "metadata": {},
          "execution_count": 16
        },
        {
          "output_type": "display_data",
          "data": {
            "text/plain": [
              "<Figure size 640x480 with 1 Axes>"
            ],
            "image/png": "[encoded data removed]"
          },
          "metadata": {}
        }
      ]
    },
    {
      "cell_type": "code",
      "source": [
        "plt.plot(h[\"val_accuracy\"] , c = \"blue\")\n",
        "plt.plot(h[\"accuracy\"] , c = \"black\")\n"
      ],
      "metadata": {
        "colab": {
          "base_uri": "https://localhost:8080/",
          "height": 447
        },
        "id": "OPdD3QZgdmbA",
        "outputId": "9f7d7614-c948-4c98-ec74-08a299820afd"
      },
      "execution_count": 39,
      "outputs": [
        {
          "output_type": "execute_result",
          "data": {
            "text/plain": [
              "[<matplotlib.lines.Line2D at 0x7f1c90e697b0>]"
            ]
          },
          "metadata": {},
          "execution_count": 39
        },
        {
          "output_type": "display_data",
          "data": {
            "text/plain": [
              "<Figure size 640x480 with 1 Axes>"
            ],
            "image/png": "[encoded data removed]"
          },
          "metadata": {}
        }
      ]
    },
    {
      "cell_type": "markdown",
      "source": [
        "Load Best Model"
      ],
      "metadata": {
        "id": "6V0loCxreM7u"
      }
    },
    {
      "cell_type": "code",
      "source": [
        "model = load_model(\"/content/best_model.h5\")"
      ],
      "metadata": {
        "id": "bGbfLQF4eLtb"
      },
      "execution_count": 17,
      "outputs": []
    },
    {
      "cell_type": "markdown",
      "source": [
        "Evaluation of the Model Perfromance"
      ],
      "metadata": {
        "id": "_bjRtMXVeo6o"
      }
    },
    {
      "cell_type": "code",
      "source": [
        "accuracy_of_model = model.evaluate_generator(valid)\n",
        "print(accuracy_of_model[1]*100)"
      ],
      "metadata": {
        "colab": {
          "base_uri": "https://localhost:8080/"
        },
        "id": "cEwGHoRTes8s",
        "outputId": "d5966738-469d-4c40-a648-101122a514ab"
      },
      "execution_count": 18,
      "outputs": [
        {
          "output_type": "stream",
          "name": "stderr",
          "text": [
            "<ipython-input-18-5606daaeff8b>:1: UserWarning: `Model.evaluate_generator` is deprecated and will be removed in a future version. Please use `Model.evaluate`, which supports generators.\n",
            "  accuracy_of_model = model.evaluate_generator(valid)\n"
          ]
        },
        {
          "output_type": "stream",
          "name": "stdout",
          "text": [
            "93.3916449546814\n"
          ]
        }
      ]
    },
    {
      "cell_type": "markdown",
      "source": [
        "Accessing the Indices of the Training Data"
      ],
      "metadata": {
        "id": "W2ucxdPFEYlu"
      }
    },
    {
      "cell_type": "code",
      "source": [
        "key_arr = []\n",
        "for key_name in train.class_indices.keys():\n",
        "  key_arr.append(key_name)"
      ],
      "metadata": {
        "id": "8qWtDKUtjKP_"
      },
      "execution_count": 19,
      "outputs": []
    },
    {
      "cell_type": "markdown",
      "source": [
        "The Test case of the Project"
      ],
      "metadata": {
        "id": "QHSSEv95EpqR"
      }
    },
    {
      "cell_type": "code",
      "source": [
        "from keras.utils.image_utils import img_to_array\n",
        "from keras.utils import load_img\n",
        "def prediction(path):\n",
        "  img  = load_img(path,target_size = (256,256))\n",
        "  i = img_to_array(img)\n",
        "  im = preprocess_input(i)\n",
        "  img = np.expand_dims(im , axis = 0)\n",
        "  pred = np.argmax(model.predict(img))\n",
        "  print(f\"The image belogs to '{key_arr[pred]}' \")"
      ],
      "metadata": {
        "id": "UiO3_Q2qgBnp"
      },
      "execution_count": 20,
      "outputs": []
    },
    {
      "cell_type": "markdown",
      "source": [
        "Select the Path of the Image that should be tested and wait for the answer to output"
      ],
      "metadata": {
        "id": "aI41ZrmIEwi4"
      }
    },
    {
      "cell_type": "code",
      "source": [
        "path = \"/content/modeldataset/test/Corn_(maize)___Common_rust_/RS_Rust 1576.JPG\"\n",
        "prediction(path)"
      ],
      "metadata": {
        "colab": {
          "base_uri": "https://localhost:8080/"
        },
        "id": "_y3YTmNyg9jD",
        "outputId": "082ffa38-961a-4797-b5aa-88d83c20e998"
      },
      "execution_count": 22,
      "outputs": [
        {
          "output_type": "stream",
          "name": "stdout",
          "text": [
            "1/1 [==============================] - 0s 30ms/step\n",
            "The image belogs to 'Corn_(maize)___Common_rust_' \n"
          ]
        }
      ]
    }
  ]
}